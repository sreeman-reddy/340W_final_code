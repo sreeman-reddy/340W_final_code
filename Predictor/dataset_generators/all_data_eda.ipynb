{
 "cells": [
  {
   "cell_type": "code",
   "execution_count": 1,
   "metadata": {
    "ExecuteTime": {
     "end_time": "2020-06-02T15:32:20.572359Z",
     "start_time": "2020-06-02T15:32:19.546382Z"
    }
   },
   "outputs": [],
   "source": [
    "import pandas as pd"
   ]
  },
  {
   "cell_type": "code",
   "execution_count": 2,
   "metadata": {
    "ExecuteTime": {
     "end_time": "2020-06-02T15:32:21.940607Z",
     "start_time": "2020-06-02T15:32:21.930028Z"
    }
   },
   "outputs": [],
   "source": [
    "file = '../data/MLB_batting_stats_ALL_BATTING.csv'\n",
    "file2 = '../data/MLB_pitching_stats_ALL_PITCHING.csv'\n",
    "file3 = '../data/2010_to_2019_seasons.csv'"
   ]
  },
  {
   "cell_type": "code",
   "execution_count": 3,
   "metadata": {
    "ExecuteTime": {
     "end_time": "2020-06-02T15:32:23.170325Z",
     "start_time": "2020-06-02T15:32:21.944351Z"
    }
   },
   "outputs": [
    {
     "name": "stderr",
     "output_type": "stream",
     "text": [
      "C:\\Users\\Sreeman\\AppData\\Local\\Temp\\ipykernel_5284\\2948799800.py:3: DtypeWarning: Columns (16,86,88) have mixed types. Specify dtype option on import or set low_memory=False.\n",
      "  game_df = pd.read_csv(file3)\n"
     ]
    }
   ],
   "source": [
    "batting_df = pd.read_csv(file)\n",
    "pitching_df = pd.read_csv(file2)\n",
    "game_df = pd.read_csv(file3)"
   ]
  },
  {
   "cell_type": "markdown",
   "metadata": {},
   "source": [
    "### Original Batting DF"
   ]
  },
  {
   "cell_type": "code",
   "execution_count": 4,
   "metadata": {
    "ExecuteTime": {
     "end_time": "2020-06-02T15:32:23.260179Z",
     "start_time": "2020-06-02T15:32:23.172562Z"
    }
   },
   "outputs": [],
   "source": [
    "batting_df.drop('Unnamed: 0', axis=1, inplace=True)\n",
    "pitching_df.drop('Unnamed: 0', axis=1, inplace=True)\n",
    "game_df.drop('Unnamed: 0', axis=1, inplace=True)"
   ]
  },
  {
   "cell_type": "code",
   "execution_count": 5,
   "metadata": {
    "ExecuteTime": {
     "end_time": "2020-06-02T15:32:23.332232Z",
     "start_time": "2020-06-02T15:32:23.263020Z"
    }
   },
   "outputs": [
    {
     "name": "stdout",
     "output_type": "stream",
     "text": [
      "<class 'pandas.core.frame.DataFrame'>\n",
      "RangeIndex: 13371 entries, 0 to 13370\n",
      "Data columns (total 72 columns):\n",
      " #   Column                        Non-Null Count  Dtype  \n",
      "---  ------                        --------------  -----  \n",
      " 0   year                          13371 non-null  int64  \n",
      " 1   playerId                      13371 non-null  int64  \n",
      " 2   playerName                    13371 non-null  object \n",
      " 3   type                          13371 non-null  object \n",
      " 4   rank                          13371 non-null  int64  \n",
      " 5   playerFullName                13371 non-null  object \n",
      " 6   playerFirstName               13371 non-null  object \n",
      " 7   playerLastName                13371 non-null  object \n",
      " 8   playerUseName                 13371 non-null  object \n",
      " 9   playerInitLastName            13371 non-null  object \n",
      " 10  teamId                        13371 non-null  int64  \n",
      " 11  teamAbbrev                    13371 non-null  object \n",
      " 12  teamName                      13371 non-null  object \n",
      " 13  teamShortName                 13371 non-null  object \n",
      " 14  leagueName                    13371 non-null  object \n",
      " 15  leagueId                      13371 non-null  int64  \n",
      " 16  positionAbbrev                13371 non-null  object \n",
      " 17  position                      13371 non-null  object \n",
      " 18  primaryPositionAbbrev         13371 non-null  object \n",
      " 19  plateAppearances              13371 non-null  int64  \n",
      " 20  totalBases                    13371 non-null  int64  \n",
      " 21  leftOnBase                    13371 non-null  int64  \n",
      " 22  sacBunts                      13371 non-null  int64  \n",
      " 23  sacFlies                      13371 non-null  int64  \n",
      " 24  babip                         13371 non-null  object \n",
      " 25  extraBaseHits                 13371 non-null  int64  \n",
      " 26  hitByPitch                    13371 non-null  int64  \n",
      " 27  gidp                          13371 non-null  int64  \n",
      " 28  gidpOpp                       13371 non-null  int64  \n",
      " 29  numberOfPitches               13371 non-null  int64  \n",
      " 30  pitchesPerPlateAppearance     13371 non-null  object \n",
      " 31  walksPerPlateAppearance       13371 non-null  object \n",
      " 32  strikeoutsPerPlateAppearance  13371 non-null  object \n",
      " 33  homeRunsPerPlateAppearance    13371 non-null  object \n",
      " 34  walksPerStrikeout             13371 non-null  object \n",
      " 35  iso                           10464 non-null  float64\n",
      " 36  reachedOnError                13371 non-null  int64  \n",
      " 37  walkOffs                      13371 non-null  int64  \n",
      " 38  flyOuts                       13371 non-null  int64  \n",
      " 39  totalSwings                   13371 non-null  int64  \n",
      " 40  swingAndMisses                13371 non-null  int64  \n",
      " 41  ballsInPlay                   13371 non-null  int64  \n",
      " 42  popOuts                       13371 non-null  int64  \n",
      " 43  lineOuts                      13371 non-null  int64  \n",
      " 44  groundOuts                    13371 non-null  int64  \n",
      " 45  flyHits                       13371 non-null  int64  \n",
      " 46  popHits                       13371 non-null  int64  \n",
      " 47  lineHits                      13371 non-null  int64  \n",
      " 48  groundHits                    13371 non-null  int64  \n",
      " 49  gamesPlayed                   13371 non-null  int64  \n",
      " 50  airOuts                       13371 non-null  int64  \n",
      " 51  runs                          13371 non-null  int64  \n",
      " 52  doubles                       13371 non-null  int64  \n",
      " 53  triples                       13371 non-null  int64  \n",
      " 54  homeRuns                      13371 non-null  int64  \n",
      " 55  strikeOuts                    13371 non-null  int64  \n",
      " 56  baseOnBalls                   13371 non-null  int64  \n",
      " 57  intentionalWalks              13371 non-null  int64  \n",
      " 58  hits                          13371 non-null  int64  \n",
      " 59  avg                           13371 non-null  float64\n",
      " 60  atBats                        13371 non-null  int64  \n",
      " 61  obp                           13371 non-null  float64\n",
      " 62  slg                           13371 non-null  float64\n",
      " 63  ops                           13371 non-null  float64\n",
      " 64  caughtStealing                13371 non-null  int64  \n",
      " 65  stolenBases                   13371 non-null  int64  \n",
      " 66  stolenBasePercentage          13371 non-null  object \n",
      " 67  groundIntoDoublePlay          13371 non-null  int64  \n",
      " 68  rbi                           13371 non-null  int64  \n",
      " 69  groundOutsToAirouts           13371 non-null  object \n",
      " 70  catchersInterference          13371 non-null  int64  \n",
      " 71  atBatsPerHomeRun              13371 non-null  object \n",
      "dtypes: float64(5), int64(44), object(23)\n",
      "memory usage: 7.3+ MB\n"
     ]
    }
   ],
   "source": [
    "batting_df.info()"
   ]
  },
  {
   "cell_type": "code",
   "execution_count": 6,
   "metadata": {
    "ExecuteTime": {
     "end_time": "2020-06-02T15:32:23.423768Z",
     "start_time": "2020-06-02T15:32:23.343964Z"
    }
   },
   "outputs": [
    {
     "name": "stdout",
     "output_type": "stream",
     "text": [
      "<class 'pandas.core.frame.DataFrame'>\n",
      "RangeIndex: 7856 entries, 0 to 7855\n",
      "Columns: 107 entries, year to sacFlies\n",
      "dtypes: float64(11), int64(63), object(33)\n",
      "memory usage: 6.4+ MB\n"
     ]
    }
   ],
   "source": [
    "pitching_df.info()"
   ]
  },
  {
   "cell_type": "code",
   "execution_count": 7,
   "metadata": {
    "ExecuteTime": {
     "end_time": "2020-06-02T15:32:23.461540Z",
     "start_time": "2020-06-02T15:32:23.428818Z"
    }
   },
   "outputs": [
    {
     "name": "stdout",
     "output_type": "stream",
     "text": [
      "<class 'pandas.core.frame.DataFrame'>\n",
      "RangeIndex: 24297 entries, 0 to 24296\n",
      "Columns: 161 entries, Date to AcquisitionInfo\n",
      "dtypes: float64(2), int64(82), object(77)\n",
      "memory usage: 29.8+ MB\n"
     ]
    }
   ],
   "source": [
    "game_df.info()"
   ]
  },
  {
   "cell_type": "markdown",
   "metadata": {},
   "source": [
    "### Initial Column drops"
   ]
  },
  {
   "cell_type": "code",
   "execution_count": 8,
   "metadata": {
    "ExecuteTime": {
     "end_time": "2020-06-02T15:32:23.737745Z",
     "start_time": "2020-06-02T15:32:23.717411Z"
    }
   },
   "outputs": [],
   "source": [
    "batting_col_del = '''playerId,type,rank,playerFullName,playerFirstName,playerLastName,playerUseName,playerInitLastName,teamId,teamName,teamShortName,leagueName,leagueId,positionAbbrev,position,primaryPositionAbbrev'''\n",
    "batting_col_del = batting_col_del.split(\",\")\n",
    "batting_df.drop(batting_col_del, axis=1, inplace=True)"
   ]
  },
  {
   "cell_type": "code",
   "execution_count": 9,
   "metadata": {
    "ExecuteTime": {
     "end_time": "2020-06-02T15:32:23.766899Z",
     "start_time": "2020-06-02T15:32:23.746849Z"
    }
   },
   "outputs": [],
   "source": [
    "pitching_col_del = '''playerId, type, rank, playerFullName, playerFirstName, playerLastName,playerUseName, playerInitLastName, teamId, teamName, teamShortName, leagueName, leagueId, positionAbbrev, position, primaryPositionAbbrev'''\n",
    "pitching_col_del = pitching_col_del.replace(\" \",\"\")\n",
    "pitching_col_del = pitching_col_del.split(\",\")\n",
    "pitching_df.drop(pitching_col_del, axis=1, inplace=True)"
   ]
  },
  {
   "cell_type": "code",
   "execution_count": 10,
   "metadata": {
    "ExecuteTime": {
     "end_time": "2020-06-02T15:32:23.815050Z",
     "start_time": "2020-06-02T15:32:23.770871Z"
    }
   },
   "outputs": [],
   "source": [
    "game_col_del = '''DoubleHeader, DayOfWeek, VisitingTeamLeague, VisitingTeamGameNumber,HomeTeamLeague, HomeTeamGameNumber, LengthInOuts, DayNight, CompletionInfo,ForfeitInfo, ProtestInfo, ParkID, Attendence, Duration, VisitorLineScore, HomeLineScore, UmpireHID, UmpireHName, Umpire1BID, Umpire1BName, Umpire2BID,Umpire2BName, Umpire3BID, Umpire3BName, UmpireLFID, UmpireLFName, UmpireRFID,UmpireRFName, VisitorManagerID, VisitorManagerName, HomeManagerID, HomeManagerName,WinningPitcherID, WinningPitcherName, LosingPitcherID, LosingPitcherNAme,SavingPitcherID, SavingPitcherName, GameWinningRBIID, GameWinningRBIName, VisitorBatting1Position, VisitorBatting2Position, VisitorBatting3Position,VisitorBatting4Position, VisitorBatting5Position, VisitorBatting6Position,VisitorBatting7Position, VisitorBatting8Position, VisitorBatting9Position,HomeBatting1Position, HomeBatting2Position, HomeBatting3Position,HomeBatting4Position, HomeBatting5Position, HomeBatting6Position,HomeBatting7Position, HomeBatting8Position, HomeBatting9Position,AdditionalInfo, AcquisitionInfo'''\n",
    "game_col_del = game_col_del.replace(\" \", \"\")\n",
    "game_col_del = game_col_del.split(\",\")\n",
    "game_df.drop(game_col_del, axis=1, inplace=True)"
   ]
  },
  {
   "cell_type": "markdown",
   "metadata": {},
   "source": [
    "### Second Go at cleaning up data"
   ]
  },
  {
   "cell_type": "code",
   "execution_count": 11,
   "metadata": {
    "ExecuteTime": {
     "end_time": "2020-06-02T15:32:23.830814Z",
     "start_time": "2020-06-02T15:32:23.820276Z"
    }
   },
   "outputs": [],
   "source": [
    "batting_col_del_2 = ['gidpOpp', 'numberOfPitches', 'pitchesPerPlateAppearance', 'walksPerStrikeout', 'iso', 'walkOffs', 'gamesPlayed', 'caughtStealing', 'stolenBases', 'stolenBasePercentage']"
   ]
  },
  {
   "cell_type": "code",
   "execution_count": 12,
   "metadata": {
    "ExecuteTime": {
     "end_time": "2020-06-02T15:32:23.849847Z",
     "start_time": "2020-06-02T15:32:23.836993Z"
    }
   },
   "outputs": [],
   "source": [
    "batting_df.drop(batting_col_del_2, axis='columns', inplace=True)"
   ]
  },
  {
   "cell_type": "code",
   "execution_count": 13,
   "metadata": {
    "ExecuteTime": {
     "end_time": "2020-06-02T15:32:23.889634Z",
     "start_time": "2020-06-02T15:32:23.854251Z"
    }
   },
   "outputs": [],
   "source": [
    "pitching_col_del_2 = ['inheritedRunners', 'inheritedRunnersScored', 'bequeathedRunners', 'bequeathedRunnersScored', 'stolenBases', 'caughtStealing', 'gamesFinished', 'gidpOpp', 'wildPitches', 'balks', 'pickoffs', 'strikePercentage', 'pitchesPerInning', 'pitchesPerPlateAppearance', 'iso', 'gamesPlayed', 'gamesStarted', 'stolenBasePercentage', 'numberOfPitches', 'inningsPitched', 'wins', 'losses', 'saves', 'saveOpportunities', 'holds', 'blownSaves', 'outs', 'gamesPitched', 'completeGames', 'shutouts', 'strikes']"
   ]
  },
  {
   "cell_type": "code",
   "execution_count": 14,
   "metadata": {
    "ExecuteTime": {
     "end_time": "2020-06-02T15:32:23.944065Z",
     "start_time": "2020-06-02T15:32:23.903847Z"
    }
   },
   "outputs": [],
   "source": [
    "pitching_df.drop(pitching_col_del_2, axis='columns', inplace=True)"
   ]
  },
  {
   "cell_type": "code",
   "execution_count": 15,
   "metadata": {
    "ExecuteTime": {
     "end_time": "2020-06-02T15:32:23.958464Z",
     "start_time": "2020-06-02T15:32:23.947845Z"
    }
   },
   "outputs": [],
   "source": [
    "game_col_del_2 = ['VisitorSH', 'VisitorSF', 'VisitorSB', 'VisitorCS', 'VisitorCI', 'VisitorPitchers', 'VisitorER', 'VisitorWP', 'VisitorBalks', 'VisitorPO', 'VisitorA', 'VisitorE', 'VisitorPassed', 'HomeSH', 'HomeSF', 'HomeSB', 'HomeCS', 'HomeCI', 'HomePitchers', 'HomeER', 'HomeWP', 'HomeBalks', 'HomePO', 'HomeA', 'HomeE', 'HomePassed']"
   ]
  },
  {
   "cell_type": "code",
   "execution_count": 16,
   "metadata": {
    "ExecuteTime": {
     "end_time": "2020-06-02T15:32:24.020008Z",
     "start_time": "2020-06-02T15:32:23.963645Z"
    }
   },
   "outputs": [],
   "source": [
    "game_df.drop(game_col_del_2, axis='columns', inplace=True)"
   ]
  },
  {
   "cell_type": "markdown",
   "metadata": {},
   "source": [
    "### Third Go at cleaning up data..."
   ]
  },
  {
   "cell_type": "code",
   "execution_count": 17,
   "metadata": {
    "ExecuteTime": {
     "end_time": "2020-06-02T15:32:24.045201Z",
     "start_time": "2020-06-02T15:32:24.025846Z"
    }
   },
   "outputs": [],
   "source": [
    "batting_col_del_3 = ['sacBunts', 'sacFlies', 'reachedOnError', 'gidp', 'babip', 'extraBaseHits', 'hitByPitch', 'walksPerPlateAppearance', 'strikeoutsPerPlateAppearance', 'homeRunsPerPlateAppearance', 'groundOuts', 'airOuts', 'doubles', 'triples', 'homeRuns', 'groundOutsToAirouts', 'atBatsPerHomeRun', ]"
   ]
  },
  {
   "cell_type": "code",
   "execution_count": 18,
   "metadata": {
    "ExecuteTime": {
     "end_time": "2020-06-02T15:32:24.064360Z",
     "start_time": "2020-06-02T15:32:24.049326Z"
    }
   },
   "outputs": [],
   "source": [
    "batting_df.drop(batting_col_del_3, axis=1, inplace=True)"
   ]
  },
  {
   "cell_type": "code",
   "execution_count": 19,
   "metadata": {
    "ExecuteTime": {
     "end_time": "2020-06-02T15:32:24.096927Z",
     "start_time": "2020-06-02T15:32:24.068846Z"
    }
   },
   "outputs": [],
   "source": [
    "pitching_col_del_3 = ['battersFaced', 'babip', 'obp', 'slg', 'strikesoutsToWalks', 'qualityStarts', 'doubles', 'triples', 'walksPerPlateAppearance', 'strikeoutsPerPlateAppearance', 'homeRunsPerPlateAppearance', 'walksPerStrikeout', 'groundOuts', 'airOuts', 'runs', 'homeRuns', 'strikeOuts', 'baseOnBalls', 'intentionalWalks', 'hits', 'hitByPitch', 'atBats', 'groundIntoDoublePlay', 'earnedRuns', 'hitBatsmen', 'totalBases', 'groundOutsToAirouts', 'strikeoutWalkRatio', 'sacBunts', 'sacFlies', ]"
   ]
  },
  {
   "cell_type": "code",
   "execution_count": 20,
   "metadata": {
    "ExecuteTime": {
     "end_time": "2020-06-02T15:32:24.137833Z",
     "start_time": "2020-06-02T15:32:24.102020Z"
    }
   },
   "outputs": [],
   "source": [
    "pitching_df.drop(pitching_col_del_3, axis=1, inplace=True)"
   ]
  },
  {
   "cell_type": "code",
   "execution_count": 21,
   "metadata": {
    "ExecuteTime": {
     "end_time": "2020-06-02T15:32:24.159750Z",
     "start_time": "2020-06-02T15:32:24.140239Z"
    }
   },
   "outputs": [],
   "source": [
    "game_col_del_3 = ['VisitorD', 'VisitorT', 'VisitorHR', 'VisitorRBI', 'VisitorK', 'VisitorGDP', 'VisitorTER', 'VisitorDB', 'VisitorTP', 'HomeD', 'HomeT', 'HomeHR', 'HomeRBI', 'HomeK', 'HomeGDP', 'HomeTER', 'HomeDB', 'HomeTP', 'VisitorStartingPitcherID', 'HomeStartingPitcherID', 'VisitorBatting1PlayerID', 'VisitorBatting1Name', 'VisitorBatting2PlayerID', 'VisitorBatting2Name', 'VisitorBatting3PlayerID', 'VisitorBatting3Name', 'VisitorBatting4PlayerID', 'VisitorBatting4Name', 'VisitorBatting5PlayerID', 'VisitorBatting5Name', 'VisitorBatting6PlayerID', 'VisitorBatting6Name', 'VisitorBatting7PlayerID', 'VisitorBatting7Name', 'VisitorBatting8PlayerID', 'VisitorBatting8Name', 'VisitorBatting9PlayerID', 'VisitorBatting9Name', 'HomeBatting1PlayerID', 'HomeBatting1Name', 'HomeBatting2PlayerID', 'HomeBatting2Name', 'HomeBatting3PlayerID', 'HomeBatting3Name', 'HomeBatting4PlayerID', 'HomeBatting4Name', 'HomeBatting5PlayerID', 'HomeBatting5Name', 'HomeBatting6PlayerID', 'HomeBatting6Name', 'HomeBatting7PlayerID', 'HomeBatting7Name', 'HomeBatting8PlayerID', 'HomeBatting8Name', 'HomeBatting9PlayerID', 'HomeBatting9Name']"
   ]
  },
  {
   "cell_type": "code",
   "execution_count": 22,
   "metadata": {
    "ExecuteTime": {
     "end_time": "2020-06-02T15:32:24.192832Z",
     "start_time": "2020-06-02T15:32:24.161988Z"
    }
   },
   "outputs": [],
   "source": [
    "game_df.drop(game_col_del_3, axis=1, inplace=True)"
   ]
  },
  {
   "cell_type": "markdown",
   "metadata": {},
   "source": [
    "### Dataframes seemed cleaned up enough. Saving to CSV and moving on to additional feature engineering"
   ]
  },
  {
   "cell_type": "code",
   "execution_count": 24,
   "metadata": {
    "ExecuteTime": {
     "end_time": "2020-06-02T15:32:24.675451Z",
     "start_time": "2020-06-02T15:32:24.195808Z"
    },
    "code_folding": []
   },
   "outputs": [],
   "source": [
    "batting_df.to_csv(\"../data/cleaned_batting_df.csv\")\n",
    "pitching_df.to_csv(\"../data/cleaned_piching_df.csv\")\n",
    "game_df.to_csv(\"../data/cleaned_game_df.csv\")"
   ]
  },
  {
   "cell_type": "code",
   "execution_count": null,
   "metadata": {},
   "outputs": [],
   "source": []
  }
 ],
 "metadata": {
  "kernelspec": {
   "display_name": "Python 3.10.4 64-bit",
   "language": "python",
   "name": "python3"
  },
  "language_info": {
   "codemirror_mode": {
    "name": "ipython",
    "version": 3
   },
   "file_extension": ".py",
   "mimetype": "text/x-python",
   "name": "python",
   "nbconvert_exporter": "python",
   "pygments_lexer": "ipython3",
   "version": "3.10.4"
  },
  "vscode": {
   "interpreter": {
    "hash": "ec5323c659ca44e45c1fdcebe5e45b16a8ed96e26bac7f076ff35b04ee58f2a6"
   }
  }
 },
 "nbformat": 4,
 "nbformat_minor": 4
}
