{
 "cells": [
  {
   "cell_type": "code",
   "execution_count": 1,
   "metadata": {
    "ExecuteTime": {
     "end_time": "2020-05-26T00:08:00.841612Z",
     "start_time": "2020-05-26T00:07:59.876593Z"
    },
    "code_folding": []
   },
   "outputs": [],
   "source": [
    "import pandas as pd\n",
    "import numpy as np\n"
   ]
  },
  {
   "cell_type": "code",
   "execution_count": 2,
   "metadata": {},
   "outputs": [],
   "source": [
    "lst = \"Date,DoubleHeader,DayOfWeek,VisitingTeam,VisitingTeamLeague,VisitingTeamGameNumber,HomeTeam,HomeTeamLeague,HomeTeamGameNumber,VisitorRunsScored,HomeRunsScore,LengthInOuts,DayNight,CompletionInfo,ForfeitInfo,ProtestInfo,ParkID,Attendence,Duration,VisitorLineScore,HomeLineScore,VisitorAB,VisitorH,VisitorD,VisitorT,VisitorHR,VisitorRBI,VisitorSH,VisitorSF,VisitorHBP,VisitorBB,VisitorIBB,VisitorK,VisitorSB,VisitorCS,VisitorGDP,VisitorCI,VisitorLOB,VisitorPitchers,VisitorER,VisitorTER,VisitorWP,VisitorBalks,VisitorPO,VisitorA,VisitorE,VisitorPassed,VisitorDB,VisitorTP,HomeAB,HomeH,HomeD,HomeT,HomeHR,HomeRBI,HomeSH,HomeSF,HomeHBP,HomeBB,HomeIBB,HomeK,HomeSB,HomeCS,HomeGDP,HomeCI,HomeLOB,HomePitchers,HomeER,HomeTER,HomeWP,HomeBalks,HomePO,HomeA,HomeE,HomePassed,HomeDB,HomeTP,UmpireHID,UmpireHName,Umpire1BID,Umpire1BName,Umpire2BID,Umpire2BName,Umpire3BID,Umpire3BName,UmpireLFID,UmpireLFName,UmpireRFID,UmpireRFName,VisitorManagerID,VisitorManagerName,HomeManagerID,HomeManagerName,WinningPitcherID,WinningPitcherName,LosingPitcherID,LosingPitcherNAme,SavingPitcherID,SavingPitcherName,GameWinningRBIID,GameWinningRBIName,VisitorStartingPitcherID,VisitorStartingPitcherName,HomeStartingPitcherID,HomeStartingPitcherName,VisitorBatting1PlayerID,VisitorBatting1Name,VisitorBatting1Position,VisitorBatting2PlayerID,VisitorBatting2Name,VisitorBatting2Position,VisitorBatting3PlayerID,VisitorBatting3Name,VisitorBatting3Position,VisitorBatting4PlayerID,VisitorBatting4Name,VisitorBatting4Position,VisitorBatting5PlayerID,VisitorBatting5Name,VisitorBatting5Position,VisitorBatting6PlayerID,VisitorBatting6Name,VisitorBatting6Position,VisitorBatting7PlayerID,VisitorBatting7Name,VisitorBatting7Position,VisitorBatting8PlayerID,VisitorBatting8Name,VisitorBatting8Position,VisitorBatting9PlayerID,VisitorBatting9Name,VisitorBatting9Position,HomeBatting1PlayerID,HomeBatting1Name,HomeBatting1Position,HomeBatting2PlayerID,HomeBatting2Name,HomeBatting2Position,HomeBatting3PlayerID,HomeBatting3Name,HomeBatting3Position,HomeBatting4PlayerID,HomeBatting4Name,HomeBatting4Position,HomeBatting5PlayerID,HomeBatting5Name,HomeBatting5Position,HomeBatting6PlayerID,HomeBatting6Name,HomeBatting6Position,HomeBatting7PlayerID,HomeBatting7Name,HomeBatting7Position,HomeBatting8PlayerID,HomeBatting8Name,HomeBatting8Position,HomeBatting9PlayerID,HomeBatting9Name,HomeBatting9Position,AdditionalInfo,AcquisitionInfo\"\n",
    "lst = lst.split(\",\")"
   ]
  },
  {
   "cell_type": "markdown",
   "metadata": {},
   "source": [
    "#### Function to create a complete dataframe from the 2010-2019 baseball seasons. Each row is a game from that season. "
   ]
  },
  {
   "cell_type": "code",
   "execution_count": 3,
   "metadata": {
    "ExecuteTime": {
     "end_time": "2020-05-26T00:08:00.854029Z",
     "start_time": "2020-05-26T00:08:00.843915Z"
    },
    "code_folding": [
     0
    ]
   },
   "outputs": [],
   "source": [
    "def make_dataframe():\n",
    "    '''\n",
    "    create a complete dataframe from a list of strings\n",
    "    \n",
    "    parameters:\n",
    "    lst - a list of strings to load into a dataframe\n",
    "    \n",
    "    returns:\n",
    "    complete dataframe of the 2010-2019 baseball seasons\n",
    "    '''\n",
    "    df = pd.DataFrame(columns=lst)\n",
    "    \n",
    "    file_names = ['GL2010', 'GL2011', 'GL2012', 'GL2013', 'GL2014', 'GL2015',\n",
    "                  'GL2016', 'GL2017', 'GL2018', 'GL2019']\n",
    "    files = []\n",
    "    \n",
    "    for x in file_names:\n",
    "        files.append(f\"../data/{x}.TXT\")\n",
    "        \n",
    "    for link in files:\n",
    "        data = pd.read_csv(link, names=lst)\n",
    "        df = df.append(data, ignore_index = True)\n",
    "        \n",
    "    return df"
   ]
  },
  {
   "cell_type": "code",
   "execution_count": 4,
   "metadata": {
    "ExecuteTime": {
     "end_time": "2020-05-26T00:13:54.851686Z",
     "start_time": "2020-05-26T00:13:52.468553Z"
    }
   },
   "outputs": [
    {
     "name": "stderr",
     "output_type": "stream",
     "text": [
      "C:\\Users\\Sreeman\\AppData\\Local\\Temp\\ipykernel_15796\\2396773048.py:22: FutureWarning: The frame.append method is deprecated and will be removed from pandas in a future version. Use pandas.concat instead.\n",
      "  df = df.append(data, ignore_index = True)\n",
      "C:\\Users\\Sreeman\\AppData\\Local\\Temp\\ipykernel_15796\\2396773048.py:22: FutureWarning: The frame.append method is deprecated and will be removed from pandas in a future version. Use pandas.concat instead.\n",
      "  df = df.append(data, ignore_index = True)\n",
      "C:\\Users\\Sreeman\\AppData\\Local\\Temp\\ipykernel_15796\\2396773048.py:22: FutureWarning: The frame.append method is deprecated and will be removed from pandas in a future version. Use pandas.concat instead.\n",
      "  df = df.append(data, ignore_index = True)\n",
      "C:\\Users\\Sreeman\\AppData\\Local\\Temp\\ipykernel_15796\\2396773048.py:22: FutureWarning: The frame.append method is deprecated and will be removed from pandas in a future version. Use pandas.concat instead.\n",
      "  df = df.append(data, ignore_index = True)\n",
      "C:\\Users\\Sreeman\\AppData\\Local\\Temp\\ipykernel_15796\\2396773048.py:22: FutureWarning: The frame.append method is deprecated and will be removed from pandas in a future version. Use pandas.concat instead.\n",
      "  df = df.append(data, ignore_index = True)\n",
      "C:\\Users\\Sreeman\\AppData\\Local\\Temp\\ipykernel_15796\\2396773048.py:22: FutureWarning: The frame.append method is deprecated and will be removed from pandas in a future version. Use pandas.concat instead.\n",
      "  df = df.append(data, ignore_index = True)\n",
      "C:\\Users\\Sreeman\\AppData\\Local\\Temp\\ipykernel_15796\\2396773048.py:22: FutureWarning: The frame.append method is deprecated and will be removed from pandas in a future version. Use pandas.concat instead.\n",
      "  df = df.append(data, ignore_index = True)\n",
      "C:\\Users\\Sreeman\\AppData\\Local\\Temp\\ipykernel_15796\\2396773048.py:22: FutureWarning: The frame.append method is deprecated and will be removed from pandas in a future version. Use pandas.concat instead.\n",
      "  df = df.append(data, ignore_index = True)\n",
      "C:\\Users\\Sreeman\\AppData\\Local\\Temp\\ipykernel_15796\\2396773048.py:22: FutureWarning: The frame.append method is deprecated and will be removed from pandas in a future version. Use pandas.concat instead.\n",
      "  df = df.append(data, ignore_index = True)\n",
      "C:\\Users\\Sreeman\\AppData\\Local\\Temp\\ipykernel_15796\\2396773048.py:22: FutureWarning: The frame.append method is deprecated and will be removed from pandas in a future version. Use pandas.concat instead.\n",
      "  df = df.append(data, ignore_index = True)\n"
     ]
    }
   ],
   "source": [
    "df = make_dataframe()"
   ]
  },
  {
   "cell_type": "code",
   "execution_count": 5,
   "metadata": {
    "ExecuteTime": {
     "end_time": "2020-05-26T14:57:26.064906Z",
     "start_time": "2020-05-26T14:57:23.682312Z"
    }
   },
   "outputs": [],
   "source": [
    "df.to_csv('2010_to_2019_seasons.csv')\n",
    "# Commenting out since the csv was created..."
   ]
  }
 ],
 "metadata": {
  "kernelspec": {
   "display_name": "Python 3.10.4 64-bit",
   "language": "python",
   "name": "python3"
  },
  "language_info": {
   "codemirror_mode": {
    "name": "ipython",
    "version": 3
   },
   "file_extension": ".py",
   "mimetype": "text/x-python",
   "name": "python",
   "nbconvert_exporter": "python",
   "pygments_lexer": "ipython3",
   "version": "3.10.4"
  },
  "vscode": {
   "interpreter": {
    "hash": "ec5323c659ca44e45c1fdcebe5e45b16a8ed96e26bac7f076ff35b04ee58f2a6"
   }
  }
 },
 "nbformat": 4,
 "nbformat_minor": 4
}
